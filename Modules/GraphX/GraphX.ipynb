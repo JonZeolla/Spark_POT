{
 "cells": [
  {
   "cell_type": "markdown",
   "metadata": {},
   "source": [
    "# Spark GraphX Analysis of US Flight Data\n",
    "\n",
    "GraphX is a component of Spark for graph analytics that takes advantage of Spark's distributed computing framework. GraphX can be used to effectively model and analyze relationships and processes in a wide variety of applications.  GraphX introduces a Graph abstraction to Spark - a directed multigraph with properties attached to each vertex and edge. GraphX supplies a collection of basic operators that take user defined functions and produce new graphs with transformed properties and structure. GraphX also includes graph algorithms to simplify graph analytics tasks.\n",
    "\n",
    "In this notebook, we will demonstrate the capabilities of GraphX to explore and analyze airline data. Airline data is a natural fit for graph analytics. Data in CSV format is readily available on the US Bureau of Transportation (BTS) website (http://www.rita.dot.gov/bts/home). This demo employs US flight data for March 2016. Data required to run this notebook is hosted at https://ibm.box.com/shared/static/rfhew36plv01cixjweq1mrdrpib4fbcx.csv. The data is downloaded within the notebook code itself, so there is no need to manually download the dataset.\n",
    "  \n",
    "  \n",
    "\n",
    "![GraphX](https://spark.apache.org/docs/latest/img/graphx_logo.png)"
   ]
  },
  {
   "cell_type": "markdown",
   "metadata": {},
   "source": [
    "## Import required libraries"
   ]
  },
  {
   "cell_type": "code",
   "execution_count": 1,
   "metadata": {
    "collapsed": false
   },
   "outputs": [],
   "source": [
    "val sqlContext = new org.apache.spark.sql.SQLContext(sc)\n",
    "import sqlContext.implicits._\n",
    "import org.apache.spark.sql.Row;\n",
    "import sys.process._\n",
    "import org.apache.spark._\n",
    "import org.apache.spark.rdd.RDD\n",
    "import org.apache.spark.graphx._\n",
    "import org.apache.spark.graphx.util.GraphGenerators"
   ]
  },
  {
   "cell_type": "markdown",
   "metadata": {},
   "source": [
    "## Download data as CSV file\n",
    "#### Data from US Bureau of Transportation Statistics (BTS) for March 2016\n",
    "#### Data required to run this notebook is hosted at https://ibm.box.com/shared/static/rfhew36plv01cixjweq1mrdrpib4fbcx.csv. Here we download the dataset to local storage."
   ]
  },
  {
   "cell_type": "code",
   "execution_count": 2,
   "metadata": {
    "collapsed": false
   },
   "outputs": [
    {
     "data": {
      "text/plain": [
       "0"
      ]
     },
     "execution_count": 2,
     "metadata": {},
     "output_type": "execute_result"
    }
   ],
   "source": [
    "\"rm -f airport_Mar_2016.csv\".!\n",
    "\"wget -q -O airport_Mar_2016.csv https://ibm.box.com/shared/static/rfhew36plv01cixjweq1mrdrpib4fbcx.csv\".!"
   ]
  },
  {
   "cell_type": "markdown",
   "metadata": {},
   "source": [
    "## Read the CSV data file and clean the data\n",
    "#### The data is in CSV format and contains a header row.<br>Notice that the DataFrame contains a blank column. This is due to the fact that the CSV file contains a trailing comma at the end of each row.<br>Drop the blank column and any rows that contain nulls"
   ]
  },
  {
   "cell_type": "code",
   "execution_count": 3,
   "metadata": {
    "collapsed": false
   },
   "outputs": [
    {
     "name": "stdout",
     "output_type": "stream",
     "text": [
      "+-----------------+------+--------------------+---------------+----+--------------+-------------------+--------+---+\n",
      "|ORIGIN_AIRPORT_ID|ORIGIN|    ORIGIN_CITY_NAME|DEST_AIRPORT_ID|DEST|DEST_CITY_NAME|ACTUAL_ELAPSED_TIME|DISTANCE|   |\n",
      "+-----------------+------+--------------------+---------------+----+--------------+-------------------+--------+---+\n",
      "|            10135|   ABE|Allentown/Bethleh...|          10397| ATL|   Atlanta, GA|              120.0|   692.0|   |\n",
      "|            10135|   ABE|Allentown/Bethleh...|          10397| ATL|   Atlanta, GA|              128.0|   692.0|   |\n",
      "|            10135|   ABE|Allentown/Bethleh...|          10397| ATL|   Atlanta, GA|              131.0|   692.0|   |\n",
      "|            10135|   ABE|Allentown/Bethleh...|          10397| ATL|   Atlanta, GA|              127.0|   692.0|   |\n",
      "|            10135|   ABE|Allentown/Bethleh...|          10397| ATL|   Atlanta, GA|              164.0|   692.0|   |\n",
      "|            10135|   ABE|Allentown/Bethleh...|          10397| ATL|   Atlanta, GA|              108.0|   692.0|   |\n",
      "|            10135|   ABE|Allentown/Bethleh...|          10397| ATL|   Atlanta, GA|              118.0|   692.0|   |\n",
      "|            10135|   ABE|Allentown/Bethleh...|          10397| ATL|   Atlanta, GA|              113.0|   692.0|   |\n",
      "|            10135|   ABE|Allentown/Bethleh...|          10397| ATL|   Atlanta, GA|              121.0|   692.0|   |\n",
      "|            10135|   ABE|Allentown/Bethleh...|          10397| ATL|   Atlanta, GA|              125.0|   692.0|   |\n",
      "+-----------------+------+--------------------+---------------+----+--------------+-------------------+--------+---+\n",
      "only showing top 10 rows\n",
      "\n"
     ]
    }
   ],
   "source": [
    "val airport_df_raw = sqlContext.read.format(\"csv\").option(\"header\", \"true\").option(\"inferSchema\", \"true\").load(\"airport_Mar_2016.csv\")\n",
    "val airport_df = airport_df_raw.drop(\"\").na.drop\n",
    "airport_df_raw.show(10)"
   ]
  },
  {
   "cell_type": "markdown",
   "metadata": {},
   "source": [
    "## Convert the DataFrame to an RDD\n",
    "#### To accomplish this we will use a custom case class rather than the generic Row object.\n",
    "GraphX is based on RDDs, which is why we must decompose the DataFrame into an RDD.\n"
   ]
  },
  {
   "cell_type": "code",
   "execution_count": 4,
   "metadata": {
    "collapsed": false
   },
   "outputs": [
    {
     "name": "stdout",
     "output_type": "stream",
     "text": [
      "flight(10135,ABE,Allentown/Bethlehem/Easton, PA,10397,ATL,Atlanta, GA,120.0,692.0)\n",
      "flight(10135,ABE,Allentown/Bethlehem/Easton, PA,10397,ATL,Atlanta, GA,128.0,692.0)\n",
      "flight(10135,ABE,Allentown/Bethlehem/Easton, PA,10397,ATL,Atlanta, GA,131.0,692.0)\n",
      "flight(10135,ABE,Allentown/Bethlehem/Easton, PA,10397,ATL,Atlanta, GA,127.0,692.0)\n",
      "flight(10135,ABE,Allentown/Bethlehem/Easton, PA,10397,ATL,Atlanta, GA,164.0,692.0)\n"
     ]
    }
   ],
   "source": [
    "case class flight(origin_id: Int, \n",
    "                  origin: String, \n",
    "                  origin_city: String, \n",
    "                  dest_id: Int, \n",
    "                  dest: String, \n",
    "                  dest_city: String, \n",
    "                  elapsed_time: Double, \n",
    "                  distance: Double)\n",
    "val flights= airport_df.map {case Row(origin_id: Int, \n",
    "                                      origin: String, \n",
    "                                      origin_city: String, \n",
    "                                      dest_id: Int, \n",
    "                                      dest: String, \n",
    "                                      dest_city: String, \n",
    "                                      elapsed_time: Double, \n",
    "                                      distance: Double) => flight(origin_id = origin_id, \n",
    "                                                                  origin = origin, \n",
    "                                                                  origin_city = origin_city, \n",
    "                                                                  dest_id = dest_id, \n",
    "                                                                  dest = dest, \n",
    "                                                                  dest_city = dest_city, \n",
    "                                                                  elapsed_time = elapsed_time, \n",
    "                                                                  distance = distance)}\n",
    "flights.take(5).foreach(println)"
   ]
  },
  {
   "cell_type": "markdown",
   "metadata": {},
   "source": [
    "## Extract airport ID and airport codes, which will be used to create the graph vertices\n",
    "#### Each vertex is keyed by a unique 64-bit long identifier (VertexID), so the airport identifier must be converted to Long. The airport code is used as the vertex property (VertexProperty). VertexID can occur only once in the VertexRDD."
   ]
  },
  {
   "cell_type": "code",
   "execution_count": 5,
   "metadata": {
    "collapsed": false
   },
   "outputs": [
    {
     "name": "stdout",
     "output_type": "stream",
     "text": [
      "(11013,CIU)\n",
      "(14057,PDX)\n",
      "(12177,HOB)\n",
      "(14262,PSP)\n",
      "(10529,BDL)\n",
      "The number of airports used in the analysis = 296\n"
     ]
    }
   ],
   "source": [
    "val airportVertices = flights.map(x => (x.origin_id.toLong, x.origin)).distinct()\n",
    "airportVertices.take(5).foreach(println)\n",
    "println(\"The number of airports used in the analysis = \" + airportVertices.count())"
   ]
  },
  {
   "cell_type": "markdown",
   "metadata": {},
   "source": [
    "## Extract origin airport id, destination airport id and distance between airports for use as graph edges\n",
    "#### Edges have a srcId and a dstId corresponding to the source and destination vertex identifiers. In addition, the Edge class has an attr member which stores the edge property. srcid and dstid must be Long, so they are converted during the mapping."
   ]
  },
  {
   "cell_type": "code",
   "execution_count": 8,
   "metadata": {
    "collapsed": false
   },
   "outputs": [
    {
     "name": "stdout",
     "output_type": "stream",
     "text": [
      "Edge(13830,14771,2338.0)\n",
      "Edge(14635,10397,515.0)\n",
      "Edge(14100,13930,678.0)\n",
      "Edge(13204,11278,759.0)\n",
      "Edge(11618,12339,645.0)\n"
     ]
    }
   ],
   "source": [
    "val tripEdges = flights.map(x => Edge(x.origin_id, x.dest_id, x.distance))\n",
    "tripEdges.takeSample(false, 5).foreach(println)\n",
    "println(\"The number of trips used in the analysis = \" + tripEdges.count())"
   ]
  },
  {
   "cell_type": "markdown",
   "metadata": {},
   "source": [
    "## Create the graph\n",
    "#### The Graph class represents a graph with arbitrary objects associated with vertices and edges. The graph provides basic operations to access and manipulate the data associated with vertices and edges as well as the underlying structure."
   ]
  },
  {
   "cell_type": "code",
   "execution_count": 9,
   "metadata": {
    "collapsed": false
   },
   "outputs": [],
   "source": [
    "val graph = Graph(airportVertices, tripEdges)"
   ]
  },
  {
   "cell_type": "markdown",
   "metadata": {},
   "source": [
    "## Show the vertices of the graph\n",
    "#### We can deconstruct a graph into the respective vertex and edge views by using the graph.vertices and graph.edges members respectively."
   ]
  },
  {
   "cell_type": "code",
   "execution_count": 12,
   "metadata": {
    "collapsed": false
   },
   "outputs": [
    {
     "name": "stdout",
     "output_type": "stream",
     "text": [
      "(10208,AGS)\n",
      "(12264,IAD)\n",
      "(15024,STT)\n",
      "(12278,ICT)\n",
      "(11292,DEN)\n",
      "Number of airports = 296\n",
      "Number of airports = 296\n"
     ]
    }
   ],
   "source": [
    "graph.vertices.take(5).foreach(println)\n",
    "println(\"Number of airports = \" + graph.vertices.count())\n",
    "println(\"Number of airports = \" + graph.numVertices)"
   ]
  },
  {
   "cell_type": "markdown",
   "metadata": {},
   "source": [
    "## Show the edges of the graph, which represent flights\n",
    "#### using the edge member of the graph class"
   ]
  },
  {
   "cell_type": "code",
   "execution_count": 13,
   "metadata": {
    "collapsed": false
   },
   "outputs": [
    {
     "name": "stdout",
     "output_type": "stream",
     "text": [
      "Edge(10135,10397,692.0)\n",
      "Edge(10135,10397,692.0)\n",
      "Edge(10135,10397,692.0)\n",
      "Edge(10135,10397,692.0)\n",
      "Edge(10135,10397,692.0)\n",
      "Number of trips = 473286\n",
      "Number of trips = 473286\n"
     ]
    }
   ],
   "source": [
    "graph.edges.take(5).foreach(println)\n",
    "println(\"Number of trips = \" + graph.edges.count())\n",
    "println(\"Number of trips = \" + graph.numEdges)"
   ]
  },
  {
   "cell_type": "markdown",
   "metadata": {},
   "source": [
    "## Determine the number of flights greater than 4000 miles\n",
    "### using the Edge class attr member which stores the edge property"
   ]
  },
  {
   "cell_type": "code",
   "execution_count": 14,
   "metadata": {
    "collapsed": false
   },
   "outputs": [
    {
     "name": "stdout",
     "output_type": "stream",
     "text": [
      "Number of trips over 4000 miles = 287\n"
     ]
    }
   ],
   "source": [
    "val distanceInput = 4000\n",
    "val number_trips_over_option2 = graph.edges.filter (e => e.attr > distanceInput).count\n",
    "println(\"Number of trips over \" + distanceInput + \" miles = \" + number_trips_over_option2)"
   ]
  },
  {
   "cell_type": "markdown",
   "metadata": {},
   "source": [
    "## In addition to the vertex and edge views of the property graph, GraphX also exposes a triplet view\n",
    "<img src=\"https://raw.githubusercontent.com/bradenrc/Spark_POT/master/Modules/GraphX/triplet.png\" height=\"70%\" width=\"70%\"></img>\n",
    "#### The triplet view logically joins the vertex and edge properties yielding an EdgeTriplet object containing instances of the EdgeTriplet class."
   ]
  },
  {
   "cell_type": "code",
   "execution_count": 15,
   "metadata": {
    "collapsed": false
   },
   "outputs": [
    {
     "name": "stdout",
     "output_type": "stream",
     "text": [
      "((10721,BOS),(15304,TPA),1185.0)\n",
      "((15024,STT),(12478,JFK),1623.0)\n",
      "((13930,ORD),(14057,PDX),1739.0)\n",
      "((12892,LAX),(13204,MCO),2218.0)\n",
      "((14771,SFO),(14057,PDX),550.0)\n"
     ]
    }
   ],
   "source": [
    "graph.triplets.takeSample(false, 5).foreach(println)"
   ]
  },
  {
   "cell_type": "markdown",
   "metadata": {},
   "source": [
    "## Show graph triplets for flights over 4000 miles\n",
    "#### Not surprisingly all the resulting trips represent flights to/from Hawaii."
   ]
  },
  {
   "cell_type": "code",
   "execution_count": 16,
   "metadata": {
    "collapsed": false
   },
   "outputs": [
    {
     "name": "stdout",
     "output_type": "stream",
     "text": [
      "((12173,HNL),(12478,JFK),4983.0)\n",
      "((12478,JFK),(12173,HNL),4983.0)\n",
      "((12173,HNL),(11618,EWR),4962.0)\n",
      "((11618,EWR),(12173,HNL),4962.0)\n",
      "((12173,HNL),(12264,IAD),4817.0)\n",
      "((12264,IAD),(12173,HNL),4817.0)\n",
      "((10397,ATL),(12173,HNL),4502.0)\n",
      "((12173,HNL),(10397,ATL),4502.0)\n",
      "((12173,HNL),(13930,ORD),4243.0)\n",
      "((13930,ORD),(12173,HNL),4243.0)\n"
     ]
    }
   ],
   "source": [
    "val distanceInput = 4000\n",
    "graph.triplets.filter(x => x.attr > distanceInput).distinct().sortBy(x => x.attr, false).take(10).foreach(println)"
   ]
  },
  {
   "cell_type": "markdown",
   "metadata": {},
   "source": [
    "## Show graph triplets originating from Boston\n",
    "#### Sort the result in descending order of distance."
   ]
  },
  {
   "cell_type": "code",
   "execution_count": 17,
   "metadata": {
    "collapsed": false
   },
   "outputs": [
    {
     "name": "stdout",
     "output_type": "stream",
     "text": [
      "((10721,BOS),(14771,SFO),2704.0)\n",
      "((10721,BOS),(14831,SJC),2689.0)\n",
      "((10721,BOS),(12892,LAX),2611.0)\n",
      "((10721,BOS),(12954,LGB),2602.0)\n",
      "((10721,BOS),(14679,SAN),2588.0)\n"
     ]
    }
   ],
   "source": [
    "graph.triplets.filter(x => x.srcAttr == \"BOS\").distinct().sortBy(x => x.attr, false).take(5).foreach(println)"
   ]
  },
  {
   "cell_type": "markdown",
   "metadata": {},
   "source": [
    "#### Determine the number of flights from Boston to San Francisco in March 2016 (the dataset we are using contains only March 2016 data)"
   ]
  },
  {
   "cell_type": "code",
   "execution_count": 18,
   "metadata": {
    "collapsed": false
   },
   "outputs": [
    {
     "name": "stdout",
     "output_type": "stream",
     "text": [
      " The number of flights from Boston To San Francisco in March 2016 = 374\n"
     ]
    }
   ],
   "source": [
    "println(\" The number of flights from Boston To San Francisco in March 2016 = \" + \n",
    "        graph.triplets.filter(x => x.srcAttr == \"BOS\").filter(x => x.dstAttr == \"SFO\").count())"
   ]
  },
  {
   "cell_type": "markdown",
   "metadata": {
    "collapsed": true
   },
   "source": [
    "## A common aggregation task is computing the degree of each vertex\n",
    "#### The degree of a vertrix represents the number of edges adjacent to each vertex.\n",
    "#### In the context of directed graphs it is often useful to know the in-degree, out-degree, and the total degree of each vertex. \n",
    "## Define a reduce operation and compute the highest degree vertex"
   ]
  },
  {
   "cell_type": "code",
   "execution_count": 19,
   "metadata": {
    "collapsed": false
   },
   "outputs": [
    {
     "name": "stdout",
     "output_type": "stream",
     "text": [
      "Max in-degree = (10397,32682)\n",
      "Max out-degree = (10397,32755)\n",
      "Max total degrees = (10397,65437)\n"
     ]
    }
   ],
   "source": [
    "def max(a: (VertexId, Int), b: (VertexId, Int)): (VertexId, Int) = {\n",
    "  if (a._2 > b._2) a else b\n",
    "}\n",
    "\n",
    "val maxInDegree  = graph.inDegrees.reduce(max)\n",
    "val maxOutDegree = graph.outDegrees.reduce(max)\n",
    "val maxDegrees = graph.degrees.reduce(max)\n",
    "\n",
    "println(\"Max in-degree = \" + maxInDegree)\n",
    "println(\"Max out-degree = \" + maxOutDegree)\n",
    "println(\"Max total degrees = \" + maxDegrees)"
   ]
  },
  {
   "cell_type": "markdown",
   "metadata": {},
   "source": [
    "## Find which airport corresponds to the airport id with the maximum number of degrees"
   ]
  },
  {
   "cell_type": "code",
   "execution_count": 20,
   "metadata": {
    "collapsed": false
   },
   "outputs": [
    {
     "name": "stdout",
     "output_type": "stream",
     "text": [
      "The airport with the most inbound and outbound flights is ATL.\n"
     ]
    }
   ],
   "source": [
    "val maxDegrees_id = maxDegrees._1\n",
    "val airport = graph.triplets.filter(x => x.srcId == maxDegrees_id).map(x => x.srcAttr).first()\n",
    "println(\"The airport with the most inbound and outbound flights is \" + airport +\".\")"
   ]
  },
  {
   "cell_type": "markdown",
   "metadata": {
    "collapsed": true
   },
   "source": [
    "## PageRank measures the importance of each vertex in a graph\n",
    "<img src=\"https://raw.githubusercontent.com/bradenrc/Spark_POT/master/Modules/GraphX/pagerank.png\" height=\"70%\" width=\"70%\"></img>\n",
    "#### PageRank assumes an edge from u to v represents an endorsement of v’s importance by u. For example, if a Twitter user is followed by many others, the user will be ranked highly.\n",
    "#### PageRank works by counting the number of edges to a vertex to determine a rough estimate of how important the vertex is. The underlying assumption is that more important vertices are likely to have more edges from other vertices. \n",
    "## Calculate PageRanks in descending order\n",
    "#### To get the airport codes, we have to join the vertex id to the airport code in the airportVertices RDD"
   ]
  },
  {
   "cell_type": "code",
   "execution_count": 21,
   "metadata": {
    "collapsed": false
   },
   "outputs": [
    {
     "name": "stdout",
     "output_type": "stream",
     "text": [
      "(10397,9.579238325208161)\n",
      "(13930,5.7030256297628945)\n",
      "(11298,5.086766672794899)\n",
      "(11292,5.004115199618762)\n",
      "(13487,3.7695530123968424)\n",
      "The most important airports by PageRank are\n",
      "ATL\n",
      "ORD\n",
      "DFW\n",
      "DEN\n",
      "MSP\n"
     ]
    }
   ],
   "source": [
    "val ranks = graph.pageRank(0.1).vertices\n",
    "ranks.sortBy(x => x._2, false).take(5).foreach(println)\n",
    "\n",
    "val ranksByAirport = ranks.join(airportVertices).distinct().sortBy(x => x._2._1, false)\n",
    "println(\"The most important airports by PageRank are\")\n",
    "ranksByAirport.map(x => x._2._2).take(5).foreach(println)"
   ]
  },
  {
   "cell_type": "markdown",
   "metadata": {},
   "source": [
    "## Subgraphs\n",
    "The subgraph operator takes vertex and edge predicates and returns the graph containing only the vertices that satisfy the vertex predicate and edges that satisfy the edge predicate and connect vertices that satisfy the vertex predicate. The subgraph operator can be used in number of situations to restrict the graph to the vertices and edges of interest or eliminate broken links.\n",
    "## Create a subgraph consisting of only flights that are greater than 4000 miles apart\n",
    "### Here we are using an edge predicate to create the subgraph."
   ]
  },
  {
   "cell_type": "code",
   "execution_count": 22,
   "metadata": {
    "collapsed": false
   },
   "outputs": [
    {
     "name": "stdout",
     "output_type": "stream",
     "text": [
      "Created subgraph only with flights that are greater than 4000 miles apart.\n",
      "Edge(13830,13930,4184.0)\n",
      "Edge(13930,13830,4184.0)\n",
      "Edge(12173,13930,4243.0)\n",
      "Edge(13930,12173,4243.0)\n",
      "Edge(12173,10397,4502.0)\n",
      "The number of vertices in the subgraph = 296\n",
      "The number of edges in the subgraph = 287\n"
     ]
    }
   ],
   "source": [
    "val distanceInput = 4000\n",
    "val subgraph = graph.subgraph(epred = x => x.attr > distanceInput)\n",
    "println(\"Created subgraph only with flights that are greater than \" + distanceInput + \" miles apart.\")\n",
    "\n",
    "subgraph.edges.distinct().sortBy(x => x.attr, true).take(5).foreach(println)\n",
    "println(\"The number of vertices in the subgraph = \"+ subgraph.numVertices)\n",
    "println(\"The number of edges in the subgraph = \"+ subgraph.numEdges)"
   ]
  },
  {
   "cell_type": "markdown",
   "metadata": {},
   "source": [
    "## This time let's create a subgraph using a vertex predicate"
   ]
  },
  {
   "cell_type": "code",
   "execution_count": 23,
   "metadata": {
    "collapsed": false
   },
   "outputs": [
    {
     "name": "stdout",
     "output_type": "stream",
     "text": [
      "(13930,ORD)\n",
      "(12892,LAX)\n",
      "(10397,ATL)\n",
      "(10721,BOS)\n",
      "(14771,SFO)\n"
     ]
    }
   ],
   "source": [
    "val airportList = List(\"BOS\", \"SFO\", \"ATL\", \"LAX\", \"ORD\")\n",
    "val subgraph2 = graph.subgraph(vpred = (vid, attr) => airportList contains attr)\n",
    "subgraph2.vertices.take(10).foreach(println)"
   ]
  },
  {
   "cell_type": "markdown",
   "metadata": {},
   "source": [
    "## Triangle Counting\n",
    "#### A vertex is part of a triangle when it has two adjacent vertices with an edge between them. GraphX implements a triangle counting algorithm in the TriangleCount object that determines the number of triangles passing through each vertex, providing a measure of clustering. Note that TriangleCount requires the edges to be in canonical orientation (srcId < dstId) and the graph to be partitioned using the partitionBy member of the graph class. partitionBy repartitions the edges in the graph according to partitionStrategy. \n",
    "## Create a subgraph for Triangle Counting\n",
    "#### To meet the edge orientation requirement, we will create a new subgraph that only contains edges/flights where org_id < dest_id. Although not exact, we can roughly view this as working with round trip segments starting at the lower order airport id for purposes of this demonstration. Note that the org_id is less then the dest_id for the sample Edges shown.\n",
    "#### Also, note that the number of trips/edges is about half the number of edges in the original graph, while the number of vertices remains the same as we only emplyed an edge predicate."
   ]
  },
  {
   "cell_type": "code",
   "execution_count": 24,
   "metadata": {
    "collapsed": false
   },
   "outputs": [
    {
     "name": "stdout",
     "output_type": "stream",
     "text": [
      "The number of vertices in the subgraph = 296\n",
      "The number of edges in the subgraph = 236619\n",
      "Edge(12892,14869,590.0)\n",
      "Edge(11298,12889,1055.0)\n",
      "Edge(11697,13930,1182.0)\n",
      "Edge(11292,12519,573.0)\n",
      "Edge(14057,14771,550.0)\n"
     ]
    }
   ],
   "source": [
    "val subgraphTC = graph.subgraph(epred = x => x.srcId < x.dstId)\n",
    "println(\"The number of vertices in the subgraph = \"+ subgraphTC.numVertices)\n",
    "println(\"The number of edges in the subgraph = \"+ subgraphTC.numEdges)\n",
    "subgraphTC.edges.takeSample(false, 5).foreach(println)"
   ]
  },
  {
   "cell_type": "markdown",
   "metadata": {},
   "source": [
    "## Create a Traingle Count graph\n",
    "#### The edges have the same attribute (distance) as the original graph and subgraph."
   ]
  },
  {
   "cell_type": "code",
   "execution_count": 25,
   "metadata": {
    "collapsed": false
   },
   "outputs": [
    {
     "name": "stdout",
     "output_type": "stream",
     "text": [
      "Edge(12173,12478,4983.0)\n",
      "Edge(11618,12173,4962.0)\n",
      "Edge(12173,12264,4817.0)\n",
      "Edge(10397,12173,4502.0)\n",
      "Edge(12173,13930,4243.0)\n"
     ]
    }
   ],
   "source": [
    "val TriangleCountGraph = subgraphTC.partitionBy(PartitionStrategy.RandomVertexCut).triangleCount()\n",
    "val TriangleCountEdges = TriangleCountGraph.edges\n",
    "TriangleCountEdges.sortBy(x => x.attr, false).take(5).foreach(println)"
   ]
  },
  {
   "cell_type": "markdown",
   "metadata": {},
   "source": [
    "## Display the Vertices in Triangle Count descending order\n",
    "#### The Triangle Count is given for each vertex."
   ]
  },
  {
   "cell_type": "code",
   "execution_count": 26,
   "metadata": {
    "collapsed": false
   },
   "outputs": [
    {
     "name": "stdout",
     "output_type": "stream",
     "text": [
      "(10397,(1440,ATL))\n",
      "(11292,(1331,DEN))\n",
      "(13930,(1319,ORD))\n",
      "(11298,(1125,DFW))\n",
      "(12266,(1094,IAH))\n"
     ]
    }
   ],
   "source": [
    "val TriangleCountVertices = TriangleCountGraph.vertices\n",
    "TriangleCountVertices.join(airportVertices).sortBy(x => x._2._1, false).take(5).foreach(println)"
   ]
  },
  {
   "cell_type": "markdown",
   "metadata": {},
   "source": [
    "## Determine the airports by airport code in Triangle Count descending order\n",
    "#### To get the airport codes, we have to join the vertex id to the airport code in the airportVertices RDD"
   ]
  },
  {
   "cell_type": "code",
   "execution_count": 27,
   "metadata": {
    "collapsed": false
   },
   "outputs": [
    {
     "name": "stdout",
     "output_type": "stream",
     "text": [
      "The airports with the highest Triangle Clount are\n",
      "(10397,(1440,ATL))\n",
      "(11292,(1331,DEN))\n",
      "(13930,(1319,ORD))\n",
      "(11298,(1125,DFW))\n",
      "(12266,(1094,IAH))\n"
     ]
    }
   ],
   "source": [
    "println(\"The airports with the highest Triangle Clount are\")\n",
    "TriangleCountVertices.join(airportVertices).sortBy(x => x._2._1, false).take(5).foreach(println)"
   ]
  },
  {
   "cell_type": "markdown",
   "metadata": {
    "collapsed": true
   },
   "source": [
    "## Conclusion\n",
    "\n",
    "This notebook demonstrated how to use Apache Spark GraphX to analyze airline data that is readily downloadable from the US Bureau of Transportation website. We specifically explored the Graph abstraction introduced by GraphX and used several of the basic operators to analyze the strucuture and relationships in the data. We saw how GraphX exposes RDD views of the vertices and edges stored within the graph and how GraphX maintains the vertices and edges in optimized data structures, VertrexRDD and EdgeRDD, which provide additional functionality above and beyond standard Spark RDDs. \n",
    "\n",
    "We also employed graph operators to transform the graphs into new graphs with transformed properties and structure. Finally, we worked with a few of the graph algorithms included with GraphX, like PageRank and Triangle Counting, to demonstrate how they simplify analytics tasks. "
   ]
  },
  {
   "cell_type": "code",
   "execution_count": null,
   "metadata": {
    "collapsed": true
   },
   "outputs": [],
   "source": []
  }
 ],
 "metadata": {
  "kernelspec": {
   "display_name": "Scala 2.10",
   "language": "scala",
   "name": "scala"
  },
  "language_info": {
   "name": "scala"
  }
 },
 "nbformat": 4,
 "nbformat_minor": 0
}